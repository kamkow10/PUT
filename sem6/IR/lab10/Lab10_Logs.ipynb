{
 "cells": [
  {
   "cell_type": "code",
   "execution_count": 2,
   "metadata": {},
   "outputs": [],
   "source": [
    "%matplotlib inline\n",
    "import numpy as np\n",
    "import matplotlib.pyplot as plt\n",
    "import datetime"
   ]
  },
  {
   "cell_type": "markdown",
   "metadata": {},
   "source": [
    "1) Log file is loaded"
   ]
  },
  {
   "cell_type": "code",
   "execution_count": 3,
   "metadata": {},
   "outputs": [
    {
     "name": "stdout",
     "output_type": "stream",
     "text": [
      "156.15.13.173 [01/Jan/2018:11:13:49 +0100] \"GET AddProduct.html HTTP/1.0\" 200 2356\n",
      "176.247.135.49 [01/Jan/2018:11:18:07 +0100] \"GET Shop.html HTTP/1.0\" 200 7466\n",
      "176.247.135.49 [01/Jan/2018:11:19:05 +0100] \"GET AddProduct.html HTTP/1.0\" 200 2356\n"
     ]
    }
   ],
   "source": [
    "file = open(\"log.txt\", \"r\") \n",
    "lines = file.readlines()\n",
    "for l in range(3): print(lines[l][:-1])"
   ]
  },
  {
   "cell_type": "markdown",
   "metadata": {},
   "source": [
    "2) Cass \"Request\" parses and keeps data of a single requests. Complete the TODO, where a given \"line\" (string) should be parsed in order to dervie the ip of the host making the request, time of the request (in seconds), and target page (name)."
   ]
  },
  {
   "cell_type": "code",
   "execution_count": 4,
   "metadata": {},
   "outputs": [],
   "source": [
    "class Request:\n",
    "    def __init__(self, line):\n",
    "        # TODO DO PARSING HERE\n",
    "        \n",
    "        self.ip = line.split(' ')[0]\n",
    "        # convert hours + minutes + seconds -> total number of seconds\n",
    "        str = line.split(' ')[1].split(':')\n",
    "        self.time = int(str[-1]) + (int(str[-2]) * 60) + (int(str[-3]) * 3600)\n",
    "        self.page = line.split(' ')[4]\n",
    "        \n",
    "    def __repr__(self):\n",
    "        return self.ip + \"     \" +  str(datetime.timedelta(seconds=self.time)) + \" -> \" + self.page\n"
   ]
  },
  {
   "cell_type": "markdown",
   "metadata": {},
   "source": [
    "3) Each line of log.txt is parsed and the Request objects are added to the list"
   ]
  },
  {
   "cell_type": "code",
   "execution_count": 5,
   "metadata": {},
   "outputs": [
    {
     "name": "stdout",
     "output_type": "stream",
     "text": [
      "156.15.13.173     11:13:49 -> AddProduct.html\n",
      "176.247.135.49     11:18:07 -> Shop.html\n",
      "176.247.135.49     11:19:05 -> AddProduct.html\n",
      "176.247.135.49     11:29:05 -> Summary.html\n",
      "69.84.30.199     11:43:59 -> Shop.html\n",
      "69.84.30.199     11:45:16 -> AddProduct.html\n",
      "57.116.45.120     11:46:45 -> AddProduct.html\n",
      "69.84.30.199     11:50:36 -> Summary.html\n",
      "69.84.30.199     11:52:38 -> Payment.html\n",
      "26.19.183.202     11:53:11 -> AddProduct.html\n"
     ]
    }
   ],
   "source": [
    "reqs = [Request(line) for line in lines]\n",
    "for l in range(10): print(reqs[l]) "
   ]
  },
  {
   "cell_type": "markdown",
   "metadata": {},
   "source": [
    "# Exercise"
   ]
  },
  {
   "cell_type": "markdown",
   "metadata": {},
   "source": [
    "Your task is to analyze the log file. You should indentify the users and sessions. Then, compute the following: <br>\n",
    "3.1) the number of sessions (should be 1000 :) ), <br>\n",
    "3.2) the number of users, <br>\n",
    "3.3) the average number of sessions per one user <br>\n",
    "3.4) use the distribution plot to visualize the sessions' lengths (minutes);  <br>\n",
    "3.5) use the distribution plot to visualize the sessions' lengths (the number of requests) <br>\n",
    "3.6) use the distribution plot to visualize sessions' starting times (hours). <br>\n",
    "3.7) which web page is the most common entry point?; for each page plot the number of times it has been an entry page,  <br>\n",
    "3.8) which web page is the most common departure point?; for each page plot the number of times the user stopped a session while being on this page, <br>\n",
    "3.9) for each page plot the average time the user stayed on this page <br>\n",
    "3.10) print the fist 10 sessions (paths). <br>\n",
    "\n",
    "You may find the following classes helpful and data."
   ]
  },
  {
   "cell_type": "code",
   "execution_count": null,
   "metadata": {},
   "outputs": [
    {
     "name": "stdout",
     "output_type": "stream",
     "text": [
      "Liczba logów:  2559\n",
      "1) Liczba sesji:  1000\n",
      "2) Użytkowników:  391\n",
      "3) Sesji na jednego użytkownika:  2.557544757033248\n"
     ]
    }
   ],
   "source": [
    "class Session:\n",
    "    def __init__(self, start, req):\n",
    "        self.startTime = start\n",
    "        self.stopTime = start\n",
    "        self.requests = []\n",
    "        self.requests.append(req)\n",
    "        \n",
    "    def __repr__(self):\n",
    "        print(\"SESSION\")\n",
    "        print(self.startTime)\n",
    "        print(self.stopTime)\n",
    "        STR = \"\"\n",
    "        for r in self.requests:\n",
    "            print(r)\n",
    "            STR += (\"  \" + r.page + \"    \" + str(datetime.timedelta(seconds=r.time)) + \"\\n\")\n",
    "        return STR\n",
    "\n",
    "class Computer:\n",
    "    def __init__(self, ip, session):\n",
    "        self.ip = ip\n",
    "        self.sessions = []\n",
    "        self.sessions.append(session)\n",
    "    def __repr__(self):\n",
    "        return self.ip\n",
    "\n",
    "PAGES = [\"Shop.html\", \"AddProduct.html\", \"Summary.html\", \"Payment.html\",\"About.html\", \"Contact.html\"]\n",
    "\n",
    "LINKS = [[1, 4],\n",
    "         [2,4],\n",
    "         [3],\n",
    "         [],\n",
    "         [1,5],\n",
    "         []]\n",
    "\n",
    "file = open(\"log.txt\", \"r\") \n",
    "lines = file.readlines()\n",
    "linesCount = 0\n",
    "\n",
    "for line in lines:\n",
    "    linesCount += 1\n",
    "print(\"Liczba logów: \", linesCount)\n",
    "\n",
    "th1 = 800 # treshold on max time on single page\n",
    "th2 = 2400 # treshold on max time in one session\n",
    "\n",
    "computers = []\n",
    "IPs = set()\n",
    "for i in range(len(reqs)):\n",
    "    ip = reqs[i].ip\n",
    "    time = reqs[i].time\n",
    "    if not ip in IPs:\n",
    "        IPs.add(ip)\n",
    "        computers.append(Computer(ip, Session(time, reqs[i])))\n",
    "    else:\n",
    "        comps = [c for c in computers if c.ip == ip]\n",
    "        comp = comps[0]\n",
    "        lastPage = comp.sessions[-1].requests[-1].page\n",
    "        actualPage = reqs[i].page\n",
    "        indLast = PAGES.index(lastPage)\n",
    "        indActual = PAGES.index(actualPage)\n",
    "        timeLastStop = comp.sessions[-1].stopTime\n",
    "        timeLastStart = comp.sessions[-1].startTime\n",
    "        if (time - timeLastStop > th1) or (time - timeLastStart > th2) or not ((actualPage == lastPage) or (indActual in LINKS[indLast])):\n",
    "            comp.sessions.append(Session(time, reqs[i]))\n",
    "        else:\n",
    "            comp.sessions[-1].requests.append(reqs[i])\n",
    "            comp.sessions[-1].stopTime = time\n",
    "            \n",
    "sessionsCount = 0\n",
    "for comp in computers:\n",
    "    for s in comp.sessions:\n",
    "        sessionsCount += 1\n",
    "print(\"1) Liczba sesji: \", sessionsCount)\n",
    "\n",
    "usersCount = 0\n",
    "for comp in computers:\n",
    "    usersCount += 1\n",
    "print(\"2) Użytkowników: \", usersCount)\n",
    "\n",
    "print(\"3) Sesji na jednego użytkownika: \", sessionsCount/usersCount)\n",
    "\n",
    "lengths = [s.stopTime - s.startTime for comp in computers for s in comp.sessions]\n",
    "lenPlot = plt.figure(1)\n",
    "plt.hist(lengths, 50, alpha=0.5)\n",
    "plt.title('4) Długości sesji (sekundy)')\n",
    "lenPlot.show()\n",
    "\n",
    "lengths = [len(s.requests) for comp in computers for s in comp.sessions]\n",
    "lenPlot2 = plt.figure(2)\n",
    "plt.hist(lengths, 50, alpha=0.5)\n",
    "plt.title('5) Długości sesji (requests)')\n",
    "lenPlot2.show()\n",
    "\n",
    "times = [s.startTime/3600 for comp in computers for s in comp.sessions]\n",
    "timesPlot = plt.figure(3)\n",
    "beans = [i for i in range(25)]\n",
    "plt.hist(times, beans, alpha=0.5)\n",
    "plt.title('6) Godziny rozpoczęć sesji')\n",
    "timesPlot.show()\n",
    "\n",
    "entries = [0, 0, 0, 0, 0, 0]\n",
    "departures = [0, 0, 0, 0, 0, 0]\n",
    "timesOnPages = [0, 0, 0, 0, 0, 0]\n",
    "pages = [0, 0, 0, 0, 0, 0]\n",
    "for i in range(len(PAGES)):\n",
    "    for comp in computers:\n",
    "        for s in comp.sessions:\n",
    "            if s.requests[0].page == PAGES[i]:\n",
    "                entries[i] += 1\n",
    "            elif s.requests[-1].page == PAGES[i]:\n",
    "                departures[i] += 1\n",
    "            for j in range(len(s.requests)):\n",
    "                if s.requests[j].page == PAGES[i]:\n",
    "                    pages[i] += 1\n",
    "                    if not j == len(s.requests) - 1:\n",
    "                        timesOnPages[i] += s.requests[j+1].time - s.requests[j].time\n",
    "                    else:\n",
    "                        nextInd = comp.sessions.index(s) + 1\n",
    "                        if not nextInd == len(comp.sessions):\n",
    "                            timesOnPages[i] += comp.sessions[nextInd].startTime - s.stopTime\n",
    "                \n",
    "entriesPlot = plt.figure(4)\n",
    "x_axis = np.arange(len(PAGES))\n",
    "plt.bar(x_axis, entries, align='center', alpha=0.5)\n",
    "plt.xticks(x_axis, PAGES, rotation=90)\n",
    "plt.title('7) Rozpoczęcia sesji na stronach')\n",
    "entriesPlot.show()\n",
    "\n",
    "departuresPlot = plt.figure(5)\n",
    "x_axis = np.arange(len(PAGES))\n",
    "plt.bar(x_axis, departures, align='center', alpha=0.5)\n",
    "plt.xticks(x_axis, PAGES, rotation=90)\n",
    "plt.title('8) Zakończenia sesji na stronach')\n",
    "departuresPlot.show()\n",
    "\n",
    "timeOnPagePlot = plt.figure(6)\n",
    "x_axis = np.arange(len(PAGES))\n",
    "avgTime = [(timesOnPages[i]/pages[i]) for i in range(6)]\n",
    "plt.bar(x_axis, avgTime, align='center', alpha=0.5)\n",
    "plt.xticks(x_axis, PAGES, rotation=90)\n",
    "plt.title('9) Średnie czasy spędzone na stronach (s)')\n",
    "timeOnPagePlot.show()\n",
    "\n",
    "print('\\n10) ')\n",
    "nr = 1\n",
    "presented = 10\n",
    "for comp in computers:\n",
    "    for s in comp.sessions:\n",
    "        print(' ')\n",
    "        if nr > presented: break\n",
    "        print('===== Sesja nr ', nr)\n",
    "        for r in s.requests:\n",
    "            if not s.requests.index(r) == len(s.requests) - 1:\n",
    "                print(r.page, end=' --> ')\n",
    "            else:\n",
    "                print(r.page)\n",
    "                print(' ')\n",
    "        nr +=  1\n",
    "    if nr > presented:  break\n",
    "        "
   ]
  },
  {
   "cell_type": "code",
   "execution_count": null,
   "metadata": {
    "collapsed": true
   },
   "outputs": [],
   "source": []
  }
 ],
 "metadata": {
  "kernelspec": {
   "display_name": "Python 3",
   "language": "python",
   "name": "python3"
  },
  "language_info": {
   "codemirror_mode": {
    "name": "ipython",
    "version": 3
   },
   "file_extension": ".py",
   "mimetype": "text/x-python",
   "name": "python",
   "nbconvert_exporter": "python",
   "pygments_lexer": "ipython3",
   "version": "3.6.10"
  }
 },
 "nbformat": 4,
 "nbformat_minor": 2
}
